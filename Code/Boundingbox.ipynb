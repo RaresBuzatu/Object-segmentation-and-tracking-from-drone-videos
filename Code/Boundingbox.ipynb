{
 "cells": [
  {
   "cell_type": "code",
   "execution_count": 120,
   "metadata": {},
   "outputs": [],
   "source": [
    "import math\n",
    "import cv2\n",
    "import glob\n",
    "from skimage.transform import resize\n",
    "import numpy as np\n",
    "import matplotlib.pyplot as plt\n",
    "from PIL import Image\n",
    "from PIL import ImageFont\n",
    "from PIL import ImageDraw \n",
    "from copy import deepcopy"
   ]
  },
  {
   "cell_type": "code",
   "execution_count": 3,
   "metadata": {},
   "outputs": [],
   "source": [
    "def erosion(image, n, m):\n",
    "    result = np.zeros((np.shape(image)[0],(np.shape(image)[1])))\n",
    "    for i in range(np.shape(image)[0] - n):\n",
    "        for j in range(np.shape(image)[1] - m):\n",
    "            result[i+math.floor(n/2)][j+math.floor(m/2)] = np.min(image[i:i+n-1, j:j+m-1])\n",
    "            \n",
    "    return result"
   ]
  },
  {
   "cell_type": "code",
   "execution_count": 110,
   "metadata": {},
   "outputs": [],
   "source": [
    "def dilation(image, n, m):\n",
    "    result = np.zeros((np.shape(image)[0],(np.shape(image)[1])))\n",
    "    for i in range(np.shape(image)[0] - n):\n",
    "            result[i+math.floor(n/2)] = image[i+math.floor(n/2)]\n",
    "            \n",
    "    return result"
   ]
  },
  {
   "cell_type": "markdown",
   "metadata": {},
   "source": [
    "## Blob detection"
   ]
  },
  {
   "cell_type": "code",
   "execution_count": 147,
   "metadata": {},
   "outputs": [],
   "source": [
    "def bounding(label_name, seg_name):\n",
    "    labels = np.load('./labels/'+label_name)['arr_0']\n",
    "    labels = np.round(resize(labels, (1088, 1920))).astype(np.uint8)\n",
    "    labels = labels*255\n",
    "    seg_img = cv2.imread('./labels/'+seg_name)\n",
    "    kernel = np.ones((40,40), np.uint8) \n",
    "    image_gray = cv2.erode(labels, kernel, iterations=1) \n",
    "    kernel = np.ones((30,30), np.uint8) \n",
    "    image_gray = np.array(cv2.dilate(image_gray, kernel, iterations=1))\n",
    "    image_gray = dilation(image_gray, 2,2)\n",
    "    image_gray = image_gray.astype(float)\n",
    "    c=image_gray[1][1]\n",
    "    img = image_gray\n",
    "    # Set up the detector with default parameters. \n",
    "    img = (img).astype('uint8')\n",
    "    th, threshed = cv2.threshold(img, 200, 255, \n",
    "           cv2.THRESH_BINARY_INV) \n",
    "    \n",
    "    cnts = cv2.findContours(threshed, cv2.RETR_LIST, \n",
    "                        cv2.CHAIN_APPROX_NONE )[-2] \n",
    "    xcnts = [] \n",
    "    for cnt in cnts: \n",
    "        xcnts.append(cnt) \n",
    "\n",
    "    for c in cnts:\n",
    "        # get the bounding rect\n",
    "        x, y, w, h = cv2.boundingRect(c)\n",
    "        # draw a white rectangle to visualize the bounding rect\n",
    "        cv2.rectangle(seg_img, (x-50, y-50), (x + w+50, y + h+50), 0, 2)\n",
    "    cv2.imwrite('./bounded/box' + seg_name, seg_img)\n",
    "\n",
    "    centers=[]\n",
    "    for xcnt in xcnts:\n",
    "        min_values = np.min(xcnt,axis=0)[0]\n",
    "        max_values = np.max(xcnt,axis=0)[0]\n",
    "        center_x = (min_values[0] + max_values[0])/2\n",
    "        center_y = (min_values[1] + max_values[1])/2   \n",
    "        center = [center_x, center_y]\n",
    "        centers.append(center)\n",
    "\n",
    "\n",
    "    return centers\n"
   ]
  },
  {
   "cell_type": "markdown",
   "metadata": {},
   "source": [
    "## Tracking algorithm"
   ]
  },
  {
   "cell_type": "code",
   "execution_count": null,
   "metadata": {},
   "outputs": [],
   "source": [
    "nr_of_files = 0\n",
    "file = sorted(glob.glob('./labels/*.png'))\n",
    "seg_name = 'frame0000.png'\n",
    "label_name = 'labels_0000.npz'\n",
    "old_centers = bounding(label_name, seg_name)\n",
    "img = Image.open('./bounded/box'+ seg_name)\n",
    "draw = ImageDraw.Draw(img)\n",
    "font = ImageFont.truetype('theboldfont.ttf', 20)\n",
    "\n",
    "centers_dict = {}\n",
    "\n",
    "tag_count = 0\n",
    "\n",
    "for idx,center in enumerate(old_centers):\n",
    "    print(tag_count)\n",
    "    tag_count+=1\n",
    "    draw.text((center[0]-60, center[1]),str(idx),(0,0,0), font=font) # this will draw text with Blackcolor and 16 size\n",
    "    centers_dict[idx] = str(idx)\n",
    "img.save('./bounded/box'+seg_name)\n",
    "contor = 0\n",
    "for idx in range(1, np.shape(file)[0]):\n",
    "    new_centers_dict = {}\n",
    "    \n",
    "    seg_name = 'frame' + str(idx).zfill(4)+'.png'\n",
    "    label_name = 'labels_' + str(idx).zfill(4)+'.npz'\n",
    "    new_centers = bounding(label_name, seg_name)\n",
    "    \n",
    "    img = Image.open('./bounded/box'+ seg_name)\n",
    "    draw = ImageDraw.Draw(img)\n",
    "    font = ImageFont.truetype('theboldfont.ttf', 20)\n",
    "    used_idx = []\n",
    "    \n",
    "    for new_idx, new_center in enumerate(new_centers):\n",
    "        min_dist = 100000\n",
    "        min_idx = -1\n",
    "        for old_idx, old_center in enumerate(old_centers) :\n",
    "            dist = math.sqrt((old_center[0] - new_center[0])**2 + (old_center[1] - new_center[1])**2)\n",
    "            if min_dist > dist and old_idx not in used_idx:\n",
    "                min_dist = dist\n",
    "                min_idx = old_idx\n",
    "                \n",
    "        if min_dist < 60 :\n",
    "            tag_name = centers_dict[min_idx]\n",
    "            used_idx.append(min_idx)\n",
    "            \n",
    "            centers_dict.pop(min_idx, None)\n",
    "            new_centers_dict[new_idx] = tag_name\n",
    "        else :\n",
    "            new_centers_dict[new_idx] = str(tag_count)\n",
    "            tag_count += 1\n",
    "        \n",
    "        draw.text((new_center[0]-60, new_center[1]),str(new_centers_dict[new_idx]),(0,0,0), font=font) # this will draw text with Blackcolor and 16 size\n",
    "        \n",
    "    old_centers = deepcopy(new_centers)\n",
    "    centers_dict = deepcopy(new_centers_dict)\n",
    "    img.save('./bounded/box'+seg_name)\n",
    "    contor += 1\n",
    "    if contor %100 ==0:\n",
    "        print(contor)\n"
   ]
  }
 ],
 "metadata": {
  "kernelspec": {
   "display_name": "Python 3",
   "language": "python",
   "name": "python3"
  },
  "language_info": {
   "codemirror_mode": {
    "name": "ipython",
    "version": 3
   },
   "file_extension": ".py",
   "mimetype": "text/x-python",
   "name": "python",
   "nbconvert_exporter": "python",
   "pygments_lexer": "ipython3",
   "version": "3.6.8"
  }
 },
 "nbformat": 4,
 "nbformat_minor": 4
}
