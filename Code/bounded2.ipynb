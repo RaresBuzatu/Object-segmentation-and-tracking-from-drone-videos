{
 "cells": [
  {
   "cell_type": "code",
   "execution_count": 13,
   "metadata": {},
   "outputs": [
    {
     "ename": "TypeError",
     "evalue": "lowerb is not a numpy array, neither a scalar",
     "output_type": "error",
     "traceback": [
      "\u001b[1;31m---------------------------------------------------------------------------\u001b[0m",
      "\u001b[1;31mTypeError\u001b[0m                                 Traceback (most recent call last)",
      "\u001b[1;32m<ipython-input-13-0ea239e7a50b>\u001b[0m in \u001b[0;36m<module>\u001b[1;34m\u001b[0m\n\u001b[0;32m     21\u001b[0m \u001b[1;32mfor\u001b[0m \u001b[0mi\u001b[0m\u001b[1;33m,\u001b[0m \u001b[0mpeak\u001b[0m \u001b[1;32min\u001b[0m \u001b[0menumerate\u001b[0m\u001b[1;33m(\u001b[0m\u001b[0mpeaks\u001b[0m\u001b[1;33m)\u001b[0m\u001b[1;33m:\u001b[0m\u001b[1;33m\u001b[0m\u001b[1;33m\u001b[0m\u001b[0m\n\u001b[0;32m     22\u001b[0m     \u001b[1;31m# First we create a mask selecting all the pixels of this hue\u001b[0m\u001b[1;33m\u001b[0m\u001b[1;33m\u001b[0m\u001b[1;33m\u001b[0m\u001b[0m\n\u001b[1;32m---> 23\u001b[1;33m     \u001b[0mmask\u001b[0m \u001b[1;33m=\u001b[0m \u001b[0mcv2\u001b[0m\u001b[1;33m.\u001b[0m\u001b[0minRange\u001b[0m\u001b[1;33m(\u001b[0m\u001b[0mh\u001b[0m\u001b[1;33m,\u001b[0m \u001b[0mpeak\u001b[0m\u001b[1;33m,\u001b[0m \u001b[0mpeak\u001b[0m\u001b[1;33m)\u001b[0m\u001b[1;33m\u001b[0m\u001b[1;33m\u001b[0m\u001b[0m\n\u001b[0m\u001b[0;32m     24\u001b[0m     \u001b[1;31m# And use it to extract the corresponding part of the original colour image\u001b[0m\u001b[1;33m\u001b[0m\u001b[1;33m\u001b[0m\u001b[1;33m\u001b[0m\u001b[0m\n\u001b[0;32m     25\u001b[0m     \u001b[0mblob\u001b[0m \u001b[1;33m=\u001b[0m \u001b[0mcv2\u001b[0m\u001b[1;33m.\u001b[0m\u001b[0mbitwise_and\u001b[0m\u001b[1;33m(\u001b[0m\u001b[0mimage\u001b[0m\u001b[1;33m,\u001b[0m \u001b[0mimage\u001b[0m\u001b[1;33m,\u001b[0m \u001b[0mmask\u001b[0m\u001b[1;33m=\u001b[0m\u001b[0mmask\u001b[0m\u001b[1;33m)\u001b[0m\u001b[1;33m\u001b[0m\u001b[1;33m\u001b[0m\u001b[0m\n",
      "\u001b[1;31mTypeError\u001b[0m: lowerb is not a numpy array, neither a scalar"
     ]
    }
   ],
   "source": [
    "import cv2\n",
    "import numpy as np\n",
    "\n",
    "# Minimum percentage of pixels of same hue to consider dominant colour\n",
    "MIN_PIXEL_CNT_PCT = (1.0/20.0)\n",
    "\n",
    "image = cv2.imread('frame1.png')\n",
    "if image is None:\n",
    "    print(\"Failed to load iamge.\")\n",
    "    exit(-1)\n",
    "\n",
    "image_hsv = cv2.cvtColor(image, cv2.COLOR_BGR2HSV)\n",
    "# We're only interested in the hue\n",
    "h,_,_ = cv2.split(image_hsv)\n",
    "# Let's count the number of occurrences of each hue\n",
    "bins = np.bincount(h.flatten())\n",
    "# And then find the dominant hues\n",
    "peaks = np.where(bins > (h.size * MIN_PIXEL_CNT_PCT))[0]\n",
    "\n",
    "# Now let's find the shape matching each dominant hue\n",
    "for i, peak in enumerate(peaks):\n",
    "    # First we create a mask selecting all the pixels of this hue\n",
    "    mask = cv2.inRange(h, peak, peak)\n",
    "    # And use it to extract the corresponding part of the original colour image\n",
    "    blob = cv2.bitwise_and(image, image, mask=mask)\n",
    "\n",
    "    _, contours, _ = cv2.findContours(mask, cv2.RETR_EXTERNAL, cv2.CHAIN_APPROX_SIMPLE)\n",
    "\n",
    "    for j, contour in enumerate(contours):\n",
    "        bbox = cv2.boundingRect(contour)\n",
    "        # Create a mask for this contour\n",
    "        contour_mask = np.zeros_like(mask)\n",
    "        cv2.drawContours(contour_mask, contours, j, 255, -1)\n",
    "\n",
    "        print (\"Found hue %d in region %s.\" % (peak, bbox))\n",
    "        # Extract and save the area of the contour\n",
    "        region = blob.copy()[bbox[1]:bbox[1]+bbox[3],bbox[0]:bbox[0]+bbox[2]]\n",
    "        region_mask = contour_mask[bbox[1]:bbox[1]+bbox[3],bbox[0]:bbox[0]+bbox[2]]\n",
    "        region_masked = cv2.bitwise_and(region, region, mask=region_mask)\n",
    "        file_name_section = \"colourblobs-%d-hue_%03d-region_%d-section.png\" % (i, peak, j)\n",
    "        cv2.imwrite(file_name_section, region_masked)\n",
    "        print (\" * wrote '%s'\" % file_name_section)\n",
    "\n",
    "        # Extract the pixels belonging to this contour\n",
    "        result = cv2.bitwise_and(blob, blob, mask=contour_mask)\n",
    "        # And draw a bounding box\n",
    "        top_left, bottom_right = (bbox[0], bbox[1]), (bbox[0]+bbox[2], bbox[1]+bbox[3])\n",
    "        cv2.rectangle(result, top_left, bottom_right, (255, 255, 255), 2)\n",
    "        file_name_bbox = \"colourblobs-%d-hue_%03d-region_%d-bbox.png\" % (i, peak, j)\n",
    "        cv2.imwrite(file_name_bbox, result)\n",
    "        print (\" * wrote '%s'\" % file_name_bbox)"
   ]
  },
  {
   "cell_type": "code",
   "execution_count": null,
   "metadata": {},
   "outputs": [],
   "source": []
  }
 ],
 "metadata": {
  "kernelspec": {
   "display_name": "Python 3",
   "language": "python",
   "name": "python3"
  },
  "language_info": {
   "codemirror_mode": {
    "name": "ipython",
    "version": 3
   },
   "file_extension": ".py",
   "mimetype": "text/x-python",
   "name": "python",
   "nbconvert_exporter": "python",
   "pygments_lexer": "ipython3",
   "version": "3.6.8"
  }
 },
 "nbformat": 4,
 "nbformat_minor": 4
}
